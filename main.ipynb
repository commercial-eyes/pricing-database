{
 "cells": [
  {
   "cell_type": "code",
   "execution_count": 1,
   "metadata": {},
   "outputs": [],
   "source": [
    "import AEMP\n",
    "import pandas as pd\n",
    "from pathlib import Path\n",
    "from urlpath import URL\n",
    "from sys import exit\n",
    "\n",
    "BASE_DIR = Path(r'C:\\Python\\AEMP')\n",
    "BASE_URL = URL('https://www.pbs.gov.au')\n",
    "exman_prices_url = BASE_URL / 'info/industry/pricing/ex-manufacturer-price'\n",
    "\n",
    "new_data = AEMP.download_updates(BASE_DIR, exman_prices_url)\n",
    "if not isinstance(new_data, pd.DataFrame):\n",
    "    print('No new data found, exiting.')\n",
    "    exit()\n",
    "    \n",
    "earliest_date = new_data.Date.min()\n",
    "old_data = AEMP.load_db(BASE_DIR, latest_month_only=True)\n",
    "\n",
    "APPEND = True\n",
    "\n",
    "if not isinstance(old_data, pd.DataFrame) or not old_data.Date.max() < earliest_date:\n",
    "    df = new_data\n",
    "    APPEND = False\n",
    "    del old_data\n",
    "else:\n",
    "    df = pd.concat([old_data, new_data], join='inner', sort=False)\n",
    "    \n",
    "pbs_data = AEMP.PBSData()\n",
    "text_files_zip = pbs_data.get_latest_PBS_text_files()\n",
    "atc_map = pbs_data.get_atc_from_text_files(text_files_zip)\n",
    "item_map = pbs_data.get_item_drug_map()\n",
    "\n",
    "df = AEMP.perform_lookup(df, item_map, atc_map)\n",
    "\n",
    "if APPEND:\n",
    "    df = df.loc[df.Date != df.Date.min()]\n",
    "    \n",
    "AEMP.write_db(BASE_DIR, df, append=APPEND)"
   ]
  },
  {
   "cell_type": "code",
   "execution_count": null,
   "metadata": {},
   "outputs": [],
   "source": []
  }
 ],
 "metadata": {
  "kernelspec": {
   "display_name": "Python 3",
   "language": "python",
   "name": "python3"
  },
  "language_info": {
   "codemirror_mode": {
    "name": "ipython",
    "version": 3
   },
   "file_extension": ".py",
   "mimetype": "text/x-python",
   "name": "python",
   "nbconvert_exporter": "python",
   "pygments_lexer": "ipython3",
   "version": "3.7.6"
  }
 },
 "nbformat": 4,
 "nbformat_minor": 2
}
